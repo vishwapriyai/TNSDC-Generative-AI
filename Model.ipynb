{
 "cells": [
  {
   "attachments": {},
   "cell_type": "markdown",
   "metadata": {},
   "source": [
    "# Trafic Sign Recognition"
   ]
  },
  {
   "attachments": {},
   "cell_type": "markdown",
   "metadata": {},
   "source": [
    "### Installing the required Library"
   ]
  },
  {
   "cell_type": "code",
   "execution_count": 34,
   "metadata": {},
   "outputs": [],
   "source": [
    "#%pip install tensorflow keras sklearn matplotlib pandas pil"
   ]
  },
  {
   "attachments": {},
   "cell_type": "markdown",
   "metadata": {},
   "source": [
    "### Data Exploration"
   ]
  },
  {
   "attachments": {},
   "cell_type": "markdown",
   "metadata": {},
   "source": [
    "The data available is divided into training and testing data .The testing data is grouped into 43 classes ,each class represent the type of the trafic signal."
   ]
  },
  {
   "attachments": {},
   "cell_type": "markdown",
   "metadata": {},
   "source": [
    "#### Import Library "
   ]
  },
  {
   "cell_type": "code",
   "execution_count": 35,
   "metadata": {},
   "outputs": [],
   "source": [
    "import numpy as np\n",
    "import pandas as pd\n",
    "import matplotlib.pyplot as plt\n",
    "import tensorflow as tf\n",
    "from PIL import Image\n",
    "from keras.preprocessing import image as keras_image\n",
    "\n",
    "import os\n",
    "\n",
    "from sklearn.model_selection import train_test_split\n",
    "from keras.utils import to_categorical\n",
    "from keras.models import Sequential\n",
    "from keras.layers import Conv2D,MaxPool2D,Dense,Flatten,Dropout"
   ]
  },
  {
   "cell_type": "code",
   "execution_count": 36,
   "metadata": {},
   "outputs": [
    {
     "name": "stdout",
     "output_type": "stream",
     "text": [
      "d:\\generative ai\\TraficSignRecognition-CNN-and-Keras--main\n"
     ]
    }
   ],
   "source": [
    "cur_path=os.getcwd()\n",
    "print(cur_path)"
   ]
  },
  {
   "cell_type": "code",
   "execution_count": 37,
   "metadata": {},
   "outputs": [
    {
     "name": "stdout",
     "output_type": "stream",
     "text": [
      "d:\\generative ai\\TraficSignRecognition-CNN-and-Keras--main\n",
      "Current path: d:\\generative ai\\TraficSignRecognition-CNN-and-Keras--main\\train\\0\n"
     ]
    },
    {
     "name": "stdout",
     "output_type": "stream",
     "text": [
      "Current path: d:\\generative ai\\TraficSignRecognition-CNN-and-Keras--main\\train\\1\n",
      "Current path: d:\\generative ai\\TraficSignRecognition-CNN-and-Keras--main\\train\\2\n",
      "Current path: d:\\generative ai\\TraficSignRecognition-CNN-and-Keras--main\\train\\3\n",
      "Current path: d:\\generative ai\\TraficSignRecognition-CNN-and-Keras--main\\train\\4\n",
      "Current path: d:\\generative ai\\TraficSignRecognition-CNN-and-Keras--main\\train\\5\n",
      "Current path: d:\\generative ai\\TraficSignRecognition-CNN-and-Keras--main\\train\\6\n",
      "Current path: d:\\generative ai\\TraficSignRecognition-CNN-and-Keras--main\\train\\7\n",
      "Current path: d:\\generative ai\\TraficSignRecognition-CNN-and-Keras--main\\train\\8\n",
      "Current path: d:\\generative ai\\TraficSignRecognition-CNN-and-Keras--main\\train\\9\n",
      "Current path: d:\\generative ai\\TraficSignRecognition-CNN-and-Keras--main\\train\\10\n",
      "Current path: d:\\generative ai\\TraficSignRecognition-CNN-and-Keras--main\\train\\11\n",
      "Current path: d:\\generative ai\\TraficSignRecognition-CNN-and-Keras--main\\train\\12\n",
      "Current path: d:\\generative ai\\TraficSignRecognition-CNN-and-Keras--main\\train\\13\n",
      "Current path: d:\\generative ai\\TraficSignRecognition-CNN-and-Keras--main\\train\\14\n",
      "Current path: d:\\generative ai\\TraficSignRecognition-CNN-and-Keras--main\\train\\15\n",
      "Current path: d:\\generative ai\\TraficSignRecognition-CNN-and-Keras--main\\train\\16\n",
      "Current path: d:\\generative ai\\TraficSignRecognition-CNN-and-Keras--main\\train\\17\n",
      "Current path: d:\\generative ai\\TraficSignRecognition-CNN-and-Keras--main\\train\\18\n",
      "Current path: d:\\generative ai\\TraficSignRecognition-CNN-and-Keras--main\\train\\19\n",
      "Current path: d:\\generative ai\\TraficSignRecognition-CNN-and-Keras--main\\train\\20\n",
      "Current path: d:\\generative ai\\TraficSignRecognition-CNN-and-Keras--main\\train\\21\n",
      "Current path: d:\\generative ai\\TraficSignRecognition-CNN-and-Keras--main\\train\\22\n",
      "Current path: d:\\generative ai\\TraficSignRecognition-CNN-and-Keras--main\\train\\23\n",
      "Current path: d:\\generative ai\\TraficSignRecognition-CNN-and-Keras--main\\train\\24\n",
      "Current path: d:\\generative ai\\TraficSignRecognition-CNN-and-Keras--main\\train\\25\n",
      "Current path: d:\\generative ai\\TraficSignRecognition-CNN-and-Keras--main\\train\\26\n",
      "Current path: d:\\generative ai\\TraficSignRecognition-CNN-and-Keras--main\\train\\27\n",
      "Current path: d:\\generative ai\\TraficSignRecognition-CNN-and-Keras--main\\train\\28\n",
      "Current path: d:\\generative ai\\TraficSignRecognition-CNN-and-Keras--main\\train\\29\n",
      "Current path: d:\\generative ai\\TraficSignRecognition-CNN-and-Keras--main\\train\\30\n",
      "Current path: d:\\generative ai\\TraficSignRecognition-CNN-and-Keras--main\\train\\31\n",
      "Current path: d:\\generative ai\\TraficSignRecognition-CNN-and-Keras--main\\train\\32\n",
      "Current path: d:\\generative ai\\TraficSignRecognition-CNN-and-Keras--main\\train\\33\n",
      "Current path: d:\\generative ai\\TraficSignRecognition-CNN-and-Keras--main\\train\\34\n",
      "Current path: d:\\generative ai\\TraficSignRecognition-CNN-and-Keras--main\\train\\35\n",
      "Current path: d:\\generative ai\\TraficSignRecognition-CNN-and-Keras--main\\train\\36\n",
      "Current path: d:\\generative ai\\TraficSignRecognition-CNN-and-Keras--main\\train\\37\n",
      "Current path: d:\\generative ai\\TraficSignRecognition-CNN-and-Keras--main\\train\\38\n",
      "Current path: d:\\generative ai\\TraficSignRecognition-CNN-and-Keras--main\\train\\39\n",
      "Current path: d:\\generative ai\\TraficSignRecognition-CNN-and-Keras--main\\train\\40\n",
      "Current path: d:\\generative ai\\TraficSignRecognition-CNN-and-Keras--main\\train\\41\n",
      "Current path: d:\\generative ai\\TraficSignRecognition-CNN-and-Keras--main\\train\\42\n"
     ]
    }
   ],
   "source": [
    "data = []\n",
    "labels = []\n",
    "classes = 43 \n",
    "cur_path = os.getcwd()\n",
    "print(cur_path)\n",
    "for i in range(classes):\n",
    "    path = os.path.join(cur_path, 'train', str(i))\n",
    "    print(\"Current path:\", path)\n",
    "    images = os.listdir(path)\n",
    "    for a in images:\n",
    "        try:\n",
    "            image = Image.open(os.path.join(path, a))\n",
    "            image = image.resize((30, 30))\n",
    "            image = np.array(image) \n",
    "            data.append(image) \n",
    "            labels.append(i) \n",
    "        except Exception as e:\n",
    "            print(\"Error Loading image\", i, \":\", e)\n",
    "\n",
    "data = np.array(data)\n",
    "labels = np.array(labels)"
   ]
  },
  {
   "cell_type": "code",
   "execution_count": 38,
   "metadata": {},
   "outputs": [
    {
     "name": "stdout",
     "output_type": "stream",
     "text": [
      "(39209, 30, 30, 3) (39209,)\n"
     ]
    }
   ],
   "source": [
    "print(data.shape,labels.shape)"
   ]
  },
  {
   "cell_type": "code",
   "execution_count": 39,
   "metadata": {},
   "outputs": [
    {
     "name": "stdout",
     "output_type": "stream",
     "text": [
      "(31367, 30, 30, 3) (7842, 30, 30, 3) [36 28  2 ... 39  1 10] [26 15 13 ...  8  7 20]\n"
     ]
    }
   ],
   "source": [
    "X_train,X_test,y_train,y_test=train_test_split(data,labels,test_size=0.2,random_state=42)\n",
    "print(X_train.shape,X_test.shape,y_train,y_test)"
   ]
  },
  {
   "attachments": {},
   "cell_type": "markdown",
   "metadata": {},
   "source": [
    "Convert the lables into one Hot encoder"
   ]
  },
  {
   "cell_type": "code",
   "execution_count": 40,
   "metadata": {},
   "outputs": [],
   "source": [
    "y_train , y_test=to_categorical(y_train,43),to_categorical(y_test,43)\n"
   ]
  },
  {
   "attachments": {},
   "cell_type": "markdown",
   "metadata": {},
   "source": [
    "### CNN model "
   ]
  },
  {
   "cell_type": "code",
   "execution_count": 41,
   "metadata": {},
   "outputs": [],
   "source": [
    "model = Sequential()\n",
    "model.add(Conv2D(filters=32, kernel_size=(5,5), activation='relu', input_shape=X_train.shape[1:]))\n",
    "model.add(Conv2D(filters=32, kernel_size=(5,5), activation='relu'))\n",
    "model.add(MaxPool2D(pool_size=(2, 2)))\n",
    "model.add(Dropout(rate=0.25))\n",
    "model.add(Conv2D(filters=64, kernel_size=(3, 3), activation='relu'))\n",
    "model.add(Conv2D(filters=64, kernel_size=(3, 3), activation='relu'))\n",
    "model.add(MaxPool2D(pool_size=(2, 2)))\n",
    "model.add(Dropout(rate=0.25))\n",
    "model.add(Flatten())\n",
    "model.add(Dense(256, activation='relu'))\n",
    "model.add(Dropout(rate=0.5))\n",
    "model.add(Dense(43, activation='softmax'))\n",
    "#Compilation of the model\n",
    "model.compile(loss='categorical_crossentropy', optimizer='adam', metrics=['accuracy'])"
   ]
  },
  {
   "attachments": {},
   "cell_type": "markdown",
   "metadata": {},
   "source": [
    "#### Model Training and Validation\n"
   ]
  },
  {
   "cell_type": "code",
   "execution_count": 42,
   "metadata": {},
   "outputs": [
    {
     "name": "stdout",
     "output_type": "stream",
     "text": [
      "Epoch 1/15\n",
      "\u001b[1m981/981\u001b[0m \u001b[32m━━━━━━━━━━━━━━━━━━━━\u001b[0m\u001b[37m\u001b[0m \u001b[1m30s\u001b[0m 28ms/step - accuracy: 0.2792 - loss: 3.6506 - val_accuracy: 0.8017 - val_loss: 0.8243\n",
      "Epoch 2/15\n",
      "\u001b[1m981/981\u001b[0m \u001b[32m━━━━━━━━━━━━━━━━━━━━\u001b[0m\u001b[37m\u001b[0m \u001b[1m29s\u001b[0m 30ms/step - accuracy: 0.7022 - loss: 1.0084 - val_accuracy: 0.9183 - val_loss: 0.3282\n",
      "Epoch 3/15\n",
      "\u001b[1m981/981\u001b[0m \u001b[32m━━━━━━━━━━━━━━━━━━━━\u001b[0m\u001b[37m\u001b[0m \u001b[1m30s\u001b[0m 30ms/step - accuracy: 0.8035 - loss: 0.6457 - val_accuracy: 0.9402 - val_loss: 0.2258\n",
      "Epoch 4/15\n",
      "\u001b[1m981/981\u001b[0m \u001b[32m━━━━━━━━━━━━━━━━━━━━\u001b[0m\u001b[37m\u001b[0m \u001b[1m30s\u001b[0m 31ms/step - accuracy: 0.8537 - loss: 0.4833 - val_accuracy: 0.9444 - val_loss: 0.2071\n",
      "Epoch 5/15\n",
      "\u001b[1m981/981\u001b[0m \u001b[32m━━━━━━━━━━━━━━━━━━━━\u001b[0m\u001b[37m\u001b[0m \u001b[1m31s\u001b[0m 31ms/step - accuracy: 0.8749 - loss: 0.4136 - val_accuracy: 0.9656 - val_loss: 0.1353\n",
      "Epoch 6/15\n",
      "\u001b[1m981/981\u001b[0m \u001b[32m━━━━━━━━━━━━━━━━━━━━\u001b[0m\u001b[37m\u001b[0m \u001b[1m32s\u001b[0m 32ms/step - accuracy: 0.8941 - loss: 0.3624 - val_accuracy: 0.9665 - val_loss: 0.1122\n",
      "Epoch 7/15\n",
      "\u001b[1m981/981\u001b[0m \u001b[32m━━━━━━━━━━━━━━━━━━━━\u001b[0m\u001b[37m\u001b[0m \u001b[1m31s\u001b[0m 31ms/step - accuracy: 0.9109 - loss: 0.2983 - val_accuracy: 0.9698 - val_loss: 0.1088\n",
      "Epoch 8/15\n",
      "\u001b[1m981/981\u001b[0m \u001b[32m━━━━━━━━━━━━━━━━━━━━\u001b[0m\u001b[37m\u001b[0m \u001b[1m30s\u001b[0m 30ms/step - accuracy: 0.9194 - loss: 0.2727 - val_accuracy: 0.9594 - val_loss: 0.1425\n",
      "Epoch 9/15\n",
      "\u001b[1m981/981\u001b[0m \u001b[32m━━━━━━━━━━━━━━━━━━━━\u001b[0m\u001b[37m\u001b[0m \u001b[1m39s\u001b[0m 29ms/step - accuracy: 0.9246 - loss: 0.2661 - val_accuracy: 0.9709 - val_loss: 0.1040\n",
      "Epoch 10/15\n",
      "\u001b[1m981/981\u001b[0m \u001b[32m━━━━━━━━━━━━━━━━━━━━\u001b[0m\u001b[37m\u001b[0m \u001b[1m30s\u001b[0m 31ms/step - accuracy: 0.9266 - loss: 0.2634 - val_accuracy: 0.9727 - val_loss: 0.0966\n",
      "Epoch 11/15\n",
      "\u001b[1m981/981\u001b[0m \u001b[32m━━━━━━━━━━━━━━━━━━━━\u001b[0m\u001b[37m\u001b[0m \u001b[1m36s\u001b[0m 37ms/step - accuracy: 0.9320 - loss: 0.2366 - val_accuracy: 0.9679 - val_loss: 0.1105\n",
      "Epoch 12/15\n",
      "\u001b[1m981/981\u001b[0m \u001b[32m━━━━━━━━━━━━━━━━━━━━\u001b[0m\u001b[37m\u001b[0m \u001b[1m33s\u001b[0m 34ms/step - accuracy: 0.9285 - loss: 0.2634 - val_accuracy: 0.9755 - val_loss: 0.0865\n",
      "Epoch 13/15\n",
      "\u001b[1m981/981\u001b[0m \u001b[32m━━━━━━━━━━━━━━━━━━━━\u001b[0m\u001b[37m\u001b[0m \u001b[1m33s\u001b[0m 34ms/step - accuracy: 0.9300 - loss: 0.2502 - val_accuracy: 0.9713 - val_loss: 0.1023\n",
      "Epoch 14/15\n",
      "\u001b[1m981/981\u001b[0m \u001b[32m━━━━━━━━━━━━━━━━━━━━\u001b[0m\u001b[37m\u001b[0m \u001b[1m33s\u001b[0m 34ms/step - accuracy: 0.9360 - loss: 0.2241 - val_accuracy: 0.9830 - val_loss: 0.0688\n",
      "Epoch 15/15\n",
      "\u001b[1m981/981\u001b[0m \u001b[32m━━━━━━━━━━━━━━━━━━━━\u001b[0m\u001b[37m\u001b[0m \u001b[1m35s\u001b[0m 35ms/step - accuracy: 0.9411 - loss: 0.2123 - val_accuracy: 0.9782 - val_loss: 0.0788\n"
     ]
    }
   ],
   "source": [
    "epochs = 15\n",
    "anc = model.fit(X_train, y_train, batch_size=32, epochs=epochs, validation_data=(X_test, y_test))"
   ]
  },
  {
   "cell_type": "code",
   "execution_count": 43,
   "metadata": {},
   "outputs": [
    {
     "name": "stdout",
     "output_type": "stream",
     "text": [
      "Requirement already satisfied: pydot in c:\\users\\ibvv\\appdata\\local\\programs\\python\\python312\\lib\\site-packages (2.0.0)Note: you may need to restart the kernel to use updated packages.\n",
      "\n",
      "Requirement already satisfied: pyparsing>=3 in c:\\users\\ibvv\\appdata\\local\\programs\\python\\python312\\lib\\site-packages (from pydot) (3.1.2)\n"
     ]
    }
   ],
   "source": [
    "%pip install pydot"
   ]
  },
  {
   "cell_type": "code",
   "execution_count": 44,
   "metadata": {},
   "outputs": [
    {
     "name": "stderr",
     "output_type": "stream",
     "text": [
      "WARNING:absl:Compiled the loaded model, but the compiled metrics have yet to be built. `model.compile_metrics` will be empty until you train or evaluate the model.\n"
     ]
    },
    {
     "name": "stdout",
     "output_type": "stream",
     "text": [
      "\n",
      "Classifying image from train folder:\n",
      "\u001b[1m1/1\u001b[0m \u001b[32m━━━━━━━━━━━━━━━━━━━━\u001b[0m\u001b[37m\u001b[0m \u001b[1m0s\u001b[0m 86ms/step\n",
      "Predicted class: 2\n",
      "\n",
      "Classifying image from test folder:\n",
      "\u001b[1m1/1\u001b[0m \u001b[32m━━━━━━━━━━━━━━━━━━━━\u001b[0m\u001b[37m\u001b[0m \u001b[1m0s\u001b[0m 25ms/step\n",
      "Predicted class: 2\n",
      "\u001b[1m1/1\u001b[0m \u001b[32m━━━━━━━━━━━━━━━━━━━━\u001b[0m\u001b[37m\u001b[0m \u001b[1m0s\u001b[0m 22ms/step\n",
      "Predicted class: 2\n",
      "You must install graphviz (see instructions at https://graphviz.gitlab.io/download/) for `plot_model` to work.\n"
     ]
    }
   ],
   "source": [
    "# Visualize the network architecture\n",
    "from keras.models import load_model\n",
    "model = load_model('my_model.h5')\n",
    "# Function to classify a single image\n",
    "def classify_image(file_path):\n",
    "    # Load and preprocess the image\n",
    "    img = keras_image.load_img(file_path, target_size=(30, 30))\n",
    "    img_array = keras_image.img_to_array(img)\n",
    "    img_array = img_array / 255.0  # Normalize pixel values\n",
    "    img_array = np.expand_dims(img_array, axis=0).astype('float32')  # Add batch dimension\n",
    "    \n",
    "    # Perform prediction\n",
    "    pred = model.predict(img_array)\n",
    "    \n",
    "    # Get the predicted class\n",
    "    predicted_class = np.argmax(pred)\n",
    "    \n",
    "    # Print the predicted class\n",
    "    print(\"Predicted class:\", predicted_class)\n",
    "\n",
    "folders = ['train', 'test']\n",
    "file_names = ['D:/generative ai/TraficSignRecognition-CNN-and-Keras--main/Train/1/00001_00000_00000.png', 'D:/generative ai/TraficSignRecognition-CNN-and-Keras--main/Test/00000.png']\n",
    "\n",
    "# Classify images from both folders\n",
    "for folder, file_name in zip(folders, file_names):\n",
    "    # Construct the full file path\n",
    "    file_path = os.path.join(cur_path, folder, file_name)\n",
    "    \n",
    "    # Classify the image using the specified file path\n",
    "    print(f\"\\nClassifying image from {folder} folder:\")\n",
    "    classify_image(file_path)\n",
    "\n",
    "# Classify the image using the specified file path\n",
    "classify_image(file_path)\n",
    "tf.keras.utils.plot_model(model, show_shapes=True)"
   ]
  },
  {
   "cell_type": "code",
   "execution_count": 45,
   "metadata": {},
   "outputs": [
    {
     "name": "stderr",
     "output_type": "stream",
     "text": [
      "WARNING:absl:You are saving your model as an HDF5 file via `model.save()` or `keras.saving.save_model(model)`. This file format is considered legacy. We recommend using instead the native Keras format, e.g. `model.save('my_model.keras')` or `keras.saving.save_model(model, 'my_model.keras')`. \n"
     ]
    },
    {
     "data": {
      "image/png": "[encoded data removed]",
      "text/plain": [
       "<Figure size 640x480 with 1 Axes>"
      ]
     },
     "metadata": {},
     "output_type": "display_data"
    },
    {
     "data": {
      "image/png": "[encoded data removed]",
      "text/plain": [
       "<Figure size 640x480 with 1 Axes>"
      ]
     },
     "metadata": {},
     "output_type": "display_data"
    }
   ],
   "source": [
    "#plotting graphs for accuracy\n",
    "\n",
    "model.save(\"my_model.h5\")\n",
    "plt.figure(0)\n",
    "plt.plot(anc.history['accuracy'], label='training accuracy')\n",
    "plt.plot(anc.history['val_accuracy'], label='val accuracy')\n",
    "plt.title('Accuracy')\n",
    "plt.xlabel('epochs')\n",
    "plt.ylabel('accuracy')\n",
    "plt.legend()\n",
    "plt.show()\n",
    "plt.figure(1)\n",
    "plt.plot(anc.history['loss'], label='training loss')\n",
    "plt.plot(anc.history['val_loss'], label='val loss')\n",
    "plt.title('Loss')\n",
    "plt.xlabel('epochs')\n",
    "plt.ylabel('loss')\n",
    "plt.legend()\n",
    "plt.show()"
   ]
  },
  {
   "cell_type": "code",
   "execution_count": 46,
   "metadata": {},
   "outputs": [
    {
     "name": "stdout",
     "output_type": "stream",
     "text": [
      "\u001b[1m246/246\u001b[0m \u001b[32m━━━━━━━━━━━━━━━━━━━━\u001b[0m\u001b[37m\u001b[0m \u001b[1m4s\u001b[0m 12ms/step - accuracy: 0.0000e+00 - f1_score: 0.0024 - loss: 3.4780 - precision_3: 0.0000e+00 - recall_3: 0.0000e+00\n",
      "Test Loss: 3.4820733070373535\n",
      "Test Accuracy: 0.0\n",
      "Test Precision: tf.Tensor(\n",
      "[0.         0.         0.10853834 0.         0.         0.\n",
      " 0.         0.         0.         0.         0.         0.\n",
      " 0.         0.         0.         0.         0.         0.\n",
      " 0.         0.         0.         0.         0.         0.\n",
      " 0.         0.         0.         0.         0.         0.\n",
      " 0.         0.         0.         0.         0.         0.\n",
      " 0.         0.         0.         0.         0.         0.\n",
      " 0.        ], shape=(43,), dtype=float32)\n",
      "Test Recall: 0.0\n",
      "Test F1 Score: 0.0\n"
     ]
    }
   ],
   "source": [
    "from keras.metrics import Accuracy, Precision, Recall, F1Score\n",
    "\n",
    "# Instantiate metric objects for accuracy, precision, recall, and F1 score\n",
    "accuracy_metric = Accuracy()\n",
    "precision_metric = Precision()\n",
    "recall_metric = Recall()\n",
    "f1_score_metric = F1Score()\n",
    "\n",
    "# Compile the model and specify the metrics\n",
    "model.compile(loss='categorical_crossentropy', optimizer='adam', metrics=[accuracy_metric, precision_metric, recall_metric, f1_score_metric])\n",
    "\n",
    "# Evaluate the model\n",
    "loss, accuracy, precision, recall, f1_score = model.evaluate(X_test, y_test, batch_size=32)\n",
    "\n",
    "print(\"Test Loss:\", loss)\n",
    "print(\"Test Accuracy:\", accuracy)\n",
    "print(\"Test Precision:\", precision)\n",
    "print(\"Test Recall:\", recall)\n",
    "print(\"Test F1 Score:\", f1_score)\n",
    "\n",
    "\n"
   ]
  },
  {
   "cell_type": "code",
   "execution_count": null,
   "metadata": {},
   "outputs": [],
   "source": []
  }
 ],
 "metadata": {
  "kernelspec": {
   "display_name": "Prediction",
   "language": "python",
   "name": "python3"
  },
  "language_info": {
   "codemirror_mode": {
    "name": "ipython",
    "version": 3
   },
   "file_extension": ".py",
   "mimetype": "text/x-python",
   "name": "python",
   "nbconvert_exporter": "python",
   "pygments_lexer": "ipython3",
   "version": "3.12.2"
  },
  "orig_nbformat": 4
 },
 "nbformat": 4,
 "nbformat_minor": 2
}
